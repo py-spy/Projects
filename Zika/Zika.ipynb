{
 "cells": [
  {
   "cell_type": "markdown",
   "metadata": {},
   "source": [
    "The data\n",
    "\n",
    "This dataset shares publicly available data related to the ongoing Zika epidemic. It is being provided as a resource to the scientific community engaged in the public health response. The data provided here is not official and should be considered provisional and non-exhaustive. The data in reports may change over time, reflecting delays in reporting or changes in classifications. And while accurate representation of the reported data is the objective in the machine readable files shared here, that accuracy is not guaranteed. Before using any of these data, it is advisable to review the original reports and sources, which are provided whenever possible along with further information on the CDC Zika epidemic GitHub repo.\n",
    "\n",
    "The dataset includes the following fields:\n",
    "\n",
    "report_date - The report date is the date that the report was published. The date should be specified in standard ISO format (YYYY-MM-DD).\n",
    "location - A location is specified for each observation following the specific names specified in the country place name database. This may be any place with a 'location_type' as listed below, e.g. city, state, country, etc. It should be specified at up to three hierarchical levels in the following format: [country]-[state/province]-[county/municipality/city], always beginning with the country name. If the data is for a particular city, e.g. Salvador, it should be specified: Brazil-Bahia-Salvador.\n",
    "location_type - A location code is included indicating: city, district, municipality, county, state, province, or country. If there is need for an additional 'location_type', open an Issue to create a new 'location_type'.\n",
    "data_field - The data field is a short description of what data is represented in the row and is related to a specific definition defined by the report from which it comes.\n",
    "data_field_code - This code is defined in the country data guide. It includes a two letter country code (ISO-3166 alpha-2, list), followed by a 4-digit number corresponding to a specific report type and data type.\n",
    "time_period - Optional. If the data pertains to a specific period of time, for example an epidemiological week, that number should be indicated here and the type of time period in the 'time_period_type', otherwise it should be NA.\n",
    "time_period_type - Required only if 'time_period' is specified. Types will also be specified in the country data guide. Otherwise should be NA.\n",
    "value - The observation indicated for the specific 'report_date', 'location', 'data_field' and when appropriate, 'time_period'.\n",
    "unit - The unit of measurement for the 'data_field'. This should conform to the 'data_field' unit options as described in the country-specific data guide.\n"
   ]
  },
  {
   "cell_type": "code",
   "execution_count": 18,
   "metadata": {
    "collapsed": false
   },
   "outputs": [],
   "source": [
    "import pandas as pd\n",
    "import numpy as np\n",
    "import matplotlib.pyplot as plt\n",
    "%matplotlib inline\n",
    "import seaborn as sb\n",
    "import os"
   ]
  },
  {
   "cell_type": "code",
   "execution_count": 2,
   "metadata": {
    "collapsed": false
   },
   "outputs": [],
   "source": [
    "z = pd.read_csv('cdc_zika.csv', low_memory = False)"
   ]
  },
  {
   "cell_type": "code",
   "execution_count": 3,
   "metadata": {
    "collapsed": false
   },
   "outputs": [
    {
     "data": {
      "text/html": [
       "<div>\n",
       "<table border=\"1\" class=\"dataframe\">\n",
       "  <thead>\n",
       "    <tr style=\"text-align: right;\">\n",
       "      <th></th>\n",
       "      <th>report_date</th>\n",
       "      <th>location</th>\n",
       "      <th>location_type</th>\n",
       "      <th>data_field</th>\n",
       "      <th>data_field_code</th>\n",
       "      <th>time_period</th>\n",
       "      <th>time_period_type</th>\n",
       "      <th>value</th>\n",
       "      <th>unit</th>\n",
       "    </tr>\n",
       "  </thead>\n",
       "  <tbody>\n",
       "    <tr>\n",
       "      <th>0</th>\n",
       "      <td>2016-03-19</td>\n",
       "      <td>Argentina-Buenos_Aires</td>\n",
       "      <td>province</td>\n",
       "      <td>cumulative_confirmed_local_cases</td>\n",
       "      <td>AR0001</td>\n",
       "      <td>NaN</td>\n",
       "      <td>NaN</td>\n",
       "      <td>0</td>\n",
       "      <td>cases</td>\n",
       "    </tr>\n",
       "    <tr>\n",
       "      <th>1</th>\n",
       "      <td>2016-03-19</td>\n",
       "      <td>Argentina-Buenos_Aires</td>\n",
       "      <td>province</td>\n",
       "      <td>cumulative_probable_local_cases</td>\n",
       "      <td>AR0002</td>\n",
       "      <td>NaN</td>\n",
       "      <td>NaN</td>\n",
       "      <td>0</td>\n",
       "      <td>cases</td>\n",
       "    </tr>\n",
       "    <tr>\n",
       "      <th>2</th>\n",
       "      <td>2016-03-19</td>\n",
       "      <td>Argentina-Buenos_Aires</td>\n",
       "      <td>province</td>\n",
       "      <td>cumulative_confirmed_imported_cases</td>\n",
       "      <td>AR0003</td>\n",
       "      <td>NaN</td>\n",
       "      <td>NaN</td>\n",
       "      <td>2</td>\n",
       "      <td>cases</td>\n",
       "    </tr>\n",
       "    <tr>\n",
       "      <th>3</th>\n",
       "      <td>2016-03-19</td>\n",
       "      <td>Argentina-Buenos_Aires</td>\n",
       "      <td>province</td>\n",
       "      <td>cumulative_probable_imported_cases</td>\n",
       "      <td>AR0004</td>\n",
       "      <td>NaN</td>\n",
       "      <td>NaN</td>\n",
       "      <td>1</td>\n",
       "      <td>cases</td>\n",
       "    </tr>\n",
       "    <tr>\n",
       "      <th>4</th>\n",
       "      <td>2016-03-19</td>\n",
       "      <td>Argentina-Buenos_Aires</td>\n",
       "      <td>province</td>\n",
       "      <td>cumulative_cases_under_study</td>\n",
       "      <td>AR0005</td>\n",
       "      <td>NaN</td>\n",
       "      <td>NaN</td>\n",
       "      <td>127</td>\n",
       "      <td>cases</td>\n",
       "    </tr>\n",
       "  </tbody>\n",
       "</table>\n",
       "</div>"
      ],
      "text/plain": [
       "  report_date                location location_type  \\\n",
       "0  2016-03-19  Argentina-Buenos_Aires      province   \n",
       "1  2016-03-19  Argentina-Buenos_Aires      province   \n",
       "2  2016-03-19  Argentina-Buenos_Aires      province   \n",
       "3  2016-03-19  Argentina-Buenos_Aires      province   \n",
       "4  2016-03-19  Argentina-Buenos_Aires      province   \n",
       "\n",
       "                            data_field data_field_code  time_period  \\\n",
       "0     cumulative_confirmed_local_cases          AR0001          NaN   \n",
       "1      cumulative_probable_local_cases          AR0002          NaN   \n",
       "2  cumulative_confirmed_imported_cases          AR0003          NaN   \n",
       "3   cumulative_probable_imported_cases          AR0004          NaN   \n",
       "4         cumulative_cases_under_study          AR0005          NaN   \n",
       "\n",
       "   time_period_type value   unit  \n",
       "0               NaN     0  cases  \n",
       "1               NaN     0  cases  \n",
       "2               NaN     2  cases  \n",
       "3               NaN     1  cases  \n",
       "4               NaN   127  cases  "
      ]
     },
     "execution_count": 3,
     "metadata": {},
     "output_type": "execute_result"
    }
   ],
   "source": [
    "z.head()"
   ]
  },
  {
   "cell_type": "code",
   "execution_count": 4,
   "metadata": {
    "collapsed": false
   },
   "outputs": [
    {
     "name": "stdout",
     "output_type": "stream",
     "text": [
      "<class 'pandas.core.frame.DataFrame'>\n",
      "RangeIndex: 107619 entries, 0 to 107618\n",
      "Data columns (total 9 columns):\n",
      "report_date         107612 non-null object\n",
      "location            107612 non-null object\n",
      "location_type       107612 non-null object\n",
      "data_field          107612 non-null object\n",
      "data_field_code     107612 non-null object\n",
      "time_period         0 non-null float64\n",
      "time_period_type    0 non-null float64\n",
      "value               107481 non-null object\n",
      "unit                107612 non-null object\n",
      "dtypes: float64(2), object(7)\n",
      "memory usage: 7.4+ MB\n"
     ]
    }
   ],
   "source": [
    "z.info()"
   ]
  },
  {
   "cell_type": "code",
   "execution_count": 5,
   "metadata": {
    "collapsed": false
   },
   "outputs": [
    {
     "data": {
      "text/plain": [
       "['report_date',\n",
       " 'location',\n",
       " 'location_type',\n",
       " 'data_field',\n",
       " 'data_field_code',\n",
       " 'time_period',\n",
       " 'time_period_type',\n",
       " 'value',\n",
       " 'unit']"
      ]
     },
     "execution_count": 5,
     "metadata": {},
     "output_type": "execute_result"
    }
   ],
   "source": [
    "z.columns.tolist()"
   ]
  },
  {
   "cell_type": "code",
   "execution_count": 6,
   "metadata": {
    "collapsed": false
   },
   "outputs": [
    {
     "data": {
      "text/plain": [
       "array(['Argentina', 'Brazil', 'Norte', 'Nordeste', 'Sudeste', 'Sul',\n",
       "       'Centro', 'Colombia', 'nan', 'Dominican_Republic', 'Ecuador',\n",
       "       'El_Salvador', 'Guatemala', 'Haiti', 'Mexico', 'Nicaragua',\n",
       "       'Panama', 'Puerto_Rico', 'United_States',\n",
       "       'United_States_Virgin_Islands'], dtype=object)"
      ]
     },
     "execution_count": 6,
     "metadata": {},
     "output_type": "execute_result"
    }
   ],
   "source": [
    "z['country'] = z['location']\n",
    "z['country'] = z['country'].astype(str)\n",
    "z['country'] = z['country'].apply(lambda x: pd.Series(x.split('-')))\n",
    "z.country.unique()"
   ]
  },
  {
   "cell_type": "code",
   "execution_count": 7,
   "metadata": {
    "collapsed": false
   },
   "outputs": [
    {
     "data": {
      "text/plain": [
       "Colombia                        86889\n",
       "Dominican_Republic               5716\n",
       "Brazil                           4253\n",
       "Mexico                           2880\n",
       "United_States                    2453\n",
       "Argentina                        2016\n",
       "El_Salvador                      1000\n",
       "Ecuador                           796\n",
       "United_States_Virgin_Islands      509\n",
       "Guatemala                         480\n",
       "Puerto_Rico                       260\n",
       "Panama                            148\n",
       "Nicaragua                         125\n",
       "Haiti                              52\n",
       "nan                                 7\n",
       "Norte                               7\n",
       "Nordeste                            7\n",
       "Sudeste                             7\n",
       "Centro                              7\n",
       "Sul                                 7\n",
       "Name: country, dtype: int64"
      ]
     },
     "execution_count": 7,
     "metadata": {},
     "output_type": "execute_result"
    }
   ],
   "source": [
    "z['country'].value_counts()"
   ]
  },
  {
   "cell_type": "code",
   "execution_count": 8,
   "metadata": {
    "collapsed": false
   },
   "outputs": [],
   "source": [
    "#us\n",
    "zus = z[z['country'] == \"United_States\"]"
   ]
  },
  {
   "cell_type": "code",
   "execution_count": 9,
   "metadata": {
    "collapsed": false
   },
   "outputs": [],
   "source": [
    "#Remove unwanted features\n",
    "zus = zus.drop(['location_type', 'data_field_code', 'time_period_type', 'time_period', 'unit'], axis=1)"
   ]
  },
  {
   "cell_type": "code",
   "execution_count": 10,
   "metadata": {
    "collapsed": false
   },
   "outputs": [
    {
     "data": {
      "text/html": [
       "<div>\n",
       "<table border=\"1\" class=\"dataframe\">\n",
       "  <thead>\n",
       "    <tr style=\"text-align: right;\">\n",
       "      <th></th>\n",
       "      <th>report_date</th>\n",
       "      <th>location</th>\n",
       "      <th>data_field</th>\n",
       "      <th>value</th>\n",
       "      <th>country</th>\n",
       "    </tr>\n",
       "  </thead>\n",
       "  <tbody>\n",
       "    <tr>\n",
       "      <th>104657</th>\n",
       "      <td>2016-02-24</td>\n",
       "      <td>United_States-Alabama</td>\n",
       "      <td>zika_reported_travel</td>\n",
       "      <td>1</td>\n",
       "      <td>United_States</td>\n",
       "    </tr>\n",
       "    <tr>\n",
       "      <th>104658</th>\n",
       "      <td>2016-02-24</td>\n",
       "      <td>United_States-Alabama</td>\n",
       "      <td>zika_reported_local</td>\n",
       "      <td>0</td>\n",
       "      <td>United_States</td>\n",
       "    </tr>\n",
       "    <tr>\n",
       "      <th>104659</th>\n",
       "      <td>2016-02-24</td>\n",
       "      <td>United_States-American_Samoa</td>\n",
       "      <td>zika_reported_local</td>\n",
       "      <td>4</td>\n",
       "      <td>United_States</td>\n",
       "    </tr>\n",
       "    <tr>\n",
       "      <th>104660</th>\n",
       "      <td>2016-02-24</td>\n",
       "      <td>United_States-American_Samoa</td>\n",
       "      <td>zika_reported_travel</td>\n",
       "      <td>0</td>\n",
       "      <td>United_States</td>\n",
       "    </tr>\n",
       "    <tr>\n",
       "      <th>104661</th>\n",
       "      <td>2016-02-24</td>\n",
       "      <td>United_States-Arkansas</td>\n",
       "      <td>zika_reported_travel</td>\n",
       "      <td>1</td>\n",
       "      <td>United_States</td>\n",
       "    </tr>\n",
       "  </tbody>\n",
       "</table>\n",
       "</div>"
      ],
      "text/plain": [
       "       report_date                      location            data_field value  \\\n",
       "104657  2016-02-24         United_States-Alabama  zika_reported_travel     1   \n",
       "104658  2016-02-24         United_States-Alabama   zika_reported_local     0   \n",
       "104659  2016-02-24  United_States-American_Samoa   zika_reported_local     4   \n",
       "104660  2016-02-24  United_States-American_Samoa  zika_reported_travel     0   \n",
       "104661  2016-02-24        United_States-Arkansas  zika_reported_travel     1   \n",
       "\n",
       "              country  \n",
       "104657  United_States  \n",
       "104658  United_States  \n",
       "104659  United_States  \n",
       "104660  United_States  \n",
       "104661  United_States  "
      ]
     },
     "execution_count": 10,
     "metadata": {},
     "output_type": "execute_result"
    }
   ],
   "source": [
    "zus.head()"
   ]
  },
  {
   "cell_type": "code",
   "execution_count": 11,
   "metadata": {
    "collapsed": true
   },
   "outputs": [],
   "source": [
    "## Creating state/city column \n",
    "st = lambda x: pd.Series([i for i in reversed(x.split('-'))])\n",
    "zus['location'] = zus.location.apply(st)\n",
    "zus.rename(columns={'location':'state_city'}, inplace=True)"
   ]
  },
  {
   "cell_type": "code",
   "execution_count": 12,
   "metadata": {
    "collapsed": false
   },
   "outputs": [
    {
     "data": {
      "text/plain": [
       "Florida                 39\n",
       "Nebraska                34\n",
       "Illinois                34\n",
       "Massachusetts           34\n",
       "Texas                   34\n",
       "Oregon                  34\n",
       "Louisiana               34\n",
       "Virginia                34\n",
       "Indiana                 34\n",
       "Iowa                    34\n",
       "Arkansas                34\n",
       "Hawaii                  34\n",
       "American Samoa          34\n",
       "Maryland                34\n",
       "US Virgin Islands       34\n",
       "Minnesota               34\n",
       "Ohio                    34\n",
       "California              34\n",
       "Delaware                34\n",
       "New York                34\n",
       "Washington              34\n",
       "Tennessee               34\n",
       "Georgia                 34\n",
       "New Jersey              34\n",
       "District of Columbia    34\n",
       "Montana                 32\n",
       "Puerto Rico             32\n",
       "Colorado                32\n",
       "Michigan                32\n",
       "Missouri                32\n",
       "                        ..\n",
       "Leon County             15\n",
       "Walton County           15\n",
       "Hamilton County         15\n",
       "Franklin County         15\n",
       "IndianRiver County      15\n",
       "Sumter County           15\n",
       "Calhoun County          15\n",
       "Not Reported            15\n",
       "PalmBeach County        15\n",
       "DeSoto County           15\n",
       "Flagler County          15\n",
       "SantaRosa County        15\n",
       "Suwannee County         15\n",
       "Polk County             15\n",
       "Jefferson County        15\n",
       "Lafayette County        15\n",
       "Putnam County           15\n",
       "Hillsborough County     15\n",
       "Collier County          15\n",
       "Columbia County         15\n",
       "Dixie County            15\n",
       "Levy County             15\n",
       "Gadsden County          15\n",
       "Pinellas County         15\n",
       "New Mexico              14\n",
       "Rhode Island             6\n",
       "Wisconsin                6\n",
       "Vermont                  6\n",
       "South Carolina           6\n",
       "Pennsylvania††           4\n",
       "Name: state_city, dtype: int64"
      ]
     },
     "execution_count": 12,
     "metadata": {},
     "output_type": "execute_result"
    }
   ],
   "source": [
    "# Clean the new column\n",
    "## Cleaning the state city column\n",
    "zus.state_city = zus.state_city.map(lambda x: x.replace('_',' '))\n",
    "zus.state_city.value_counts()"
   ]
  },
  {
   "cell_type": "code",
   "execution_count": 13,
   "metadata": {
    "collapsed": false
   },
   "outputs": [
    {
     "data": {
      "text/plain": [
       "(2453, 5)"
      ]
     },
     "execution_count": 13,
     "metadata": {},
     "output_type": "execute_result"
    }
   ],
   "source": [
    "zus.shape"
   ]
  },
  {
   "cell_type": "code",
   "execution_count": 14,
   "metadata": {
    "collapsed": false
   },
   "outputs": [],
   "source": [
    "## Reshaping the Data\n",
    "us = pd.pivot_table(zus,\n",
    "                             index=['country','state_city','report_date'],\n",
    "                             columns=['data_field'],values=['value'],\n",
    "                             aggfunc=sum)\n",
    "us = us['value'].reset_index()"
   ]
  },
  {
   "cell_type": "code",
   "execution_count": 15,
   "metadata": {
    "collapsed": false
   },
   "outputs": [
    {
     "data": {
      "text/html": [
       "<div>\n",
       "<table border=\"1\" class=\"dataframe\">\n",
       "  <thead>\n",
       "    <tr style=\"text-align: right;\">\n",
       "      <th>data_field</th>\n",
       "      <th>country</th>\n",
       "      <th>state_city</th>\n",
       "      <th>report_date</th>\n",
       "      <th>yearly_reported_travel_cases</th>\n",
       "      <th>zika_reported_local</th>\n",
       "      <th>zika_reported_travel</th>\n",
       "    </tr>\n",
       "  </thead>\n",
       "  <tbody>\n",
       "    <tr>\n",
       "      <th>0</th>\n",
       "      <td>United_States</td>\n",
       "      <td>Alabama</td>\n",
       "      <td>2016-02-24</td>\n",
       "      <td>None</td>\n",
       "      <td>0</td>\n",
       "      <td>1</td>\n",
       "    </tr>\n",
       "    <tr>\n",
       "      <th>1</th>\n",
       "      <td>United_States</td>\n",
       "      <td>Alabama</td>\n",
       "      <td>2016-03-09</td>\n",
       "      <td>None</td>\n",
       "      <td>0</td>\n",
       "      <td>1</td>\n",
       "    </tr>\n",
       "    <tr>\n",
       "      <th>2</th>\n",
       "      <td>United_States</td>\n",
       "      <td>Alabama</td>\n",
       "      <td>2016-03-16</td>\n",
       "      <td>None</td>\n",
       "      <td>0</td>\n",
       "      <td>1</td>\n",
       "    </tr>\n",
       "    <tr>\n",
       "      <th>3</th>\n",
       "      <td>United_States</td>\n",
       "      <td>Alabama</td>\n",
       "      <td>2016-03-23</td>\n",
       "      <td>None</td>\n",
       "      <td>0</td>\n",
       "      <td>2</td>\n",
       "    </tr>\n",
       "    <tr>\n",
       "      <th>4</th>\n",
       "      <td>United_States</td>\n",
       "      <td>Alabama</td>\n",
       "      <td>2016-04-06</td>\n",
       "      <td>None</td>\n",
       "      <td>0</td>\n",
       "      <td>2</td>\n",
       "    </tr>\n",
       "  </tbody>\n",
       "</table>\n",
       "</div>"
      ],
      "text/plain": [
       "data_field        country state_city report_date yearly_reported_travel_cases  \\\n",
       "0           United_States    Alabama  2016-02-24                         None   \n",
       "1           United_States    Alabama  2016-03-09                         None   \n",
       "2           United_States    Alabama  2016-03-16                         None   \n",
       "3           United_States    Alabama  2016-03-23                         None   \n",
       "4           United_States    Alabama  2016-04-06                         None   \n",
       "\n",
       "data_field zika_reported_local zika_reported_travel  \n",
       "0                            0                    1  \n",
       "1                            0                    1  \n",
       "2                            0                    1  \n",
       "3                            0                    2  \n",
       "4                            0                    2  "
      ]
     },
     "execution_count": 15,
     "metadata": {},
     "output_type": "execute_result"
    }
   ],
   "source": [
    "us.head()"
   ]
  },
  {
   "cell_type": "code",
   "execution_count": 16,
   "metadata": {
    "collapsed": false
   },
   "outputs": [
    {
     "name": "stdout",
     "output_type": "stream",
     "text": [
      "object\n",
      "++++++++++++++\n"
     ]
    }
   ],
   "source": [
    "## Making Report date the index\n",
    "print (us.report_date.dtype )\n",
    "print (\"++++++++++++++\")\n",
    "us.sort_values(\"report_date\", inplace=True)\n",
    "us.set_index(\"report_date\", inplace=True)\n",
    "us.index = us.index.to_datetime()"
   ]
  },
  {
   "cell_type": "code",
   "execution_count": 19,
   "metadata": {
    "collapsed": false
   },
   "outputs": [],
   "source": [
    "## Now creating a year, month and day column\n",
    "us['year'] = us.index.year\n",
    "us['month'] = us.index.month\n",
    "us['day'] = us.index.day"
   ]
  },
  {
   "cell_type": "code",
   "execution_count": 20,
   "metadata": {
    "collapsed": false
   },
   "outputs": [
    {
     "name": "stdout",
     "output_type": "stream",
     "text": [
      "yearly_reported_travel_cases\n",
      "zika_reported_local\n",
      "zika_reported_travel\n"
     ]
    }
   ],
   "source": [
    "data_categories = sorted(zus['data_field'].unique())\n",
    "print(os.linesep.join(data_categories))"
   ]
  },
  {
   "cell_type": "code",
   "execution_count": null,
   "metadata": {
    "collapsed": true
   },
   "outputs": [],
   "source": []
  }
 ],
 "metadata": {
  "kernelspec": {
   "display_name": "Python [conda root]",
   "language": "python",
   "name": "conda-root-py"
  },
  "language_info": {
   "codemirror_mode": {
    "name": "ipython",
    "version": 2
   },
   "file_extension": ".py",
   "mimetype": "text/x-python",
   "name": "python",
   "nbconvert_exporter": "python",
   "pygments_lexer": "ipython2",
   "version": "2.7.12"
  }
 },
 "nbformat": 4,
 "nbformat_minor": 1
}
